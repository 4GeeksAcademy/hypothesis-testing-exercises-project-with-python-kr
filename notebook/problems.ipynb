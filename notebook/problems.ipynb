{
 "cells": [
  {
   "cell_type": "markdown",
   "id": "d9d036c6",
   "metadata": {},
   "source": [
    "# Hypothesis testing problems"
   ]
  },
  {
   "cell_type": "markdown",
   "id": "d157c4db",
   "metadata": {},
   "source": [
    "## Exercise 1\n",
    "\n",
    "You are a nutritionist researching two different types of diets to see if there is a significant difference in weight loss after one month. You choose two random groups of people; one group follows the first diet, and the other follows the second. At the end of the month, you record the weight loss (in kg) for each person:\n",
    "\n",
    "| Diet 1 | Diet 2 |\n",
    "|:-------|:-------|\n",
    "| 2.0 | 3.0 |\n",
    "| 2.5 | 3.2 |\n",
    "| 3.0 | 3.1 |\n",
    "| 2.8 | 2.9 |\n",
    "| 2.3 | 2.8 |\n",
    "| 2.7 | 3.0 |\n",
    "| 2.5 | 3.2 |\n",
    "\n",
    "With these data, it seeks to answer the following question: Is there a significant difference in average weight loss between people who followed the first diet and those who followed the second diet?\n",
    "\n",
    "To draw conclusions, follow the points below:\n",
    "\n",
    "- State the hypothesis: null and alternative hypothesis.\n",
    "- Perform the test to test the hypothesis. You can use a Student's t-test.\n",
    "- Analyze the conclusions."
   ]
  },
  {
   "cell_type": "markdown",
   "id": "4928c760",
   "metadata": {},
   "source": [
    "- H_0: There is no difference in average weight loss between people in diet 1 and diet 2.\n",
    "- H_1: There is a difference in average weight loss between  people in diet 1 and diet 2."
   ]
  },
  {
   "cell_type": "code",
   "execution_count": 11,
   "id": "8e0f3cf0",
   "metadata": {},
   "outputs": [
    {
     "name": "stdout",
     "output_type": "stream",
     "text": [
      "Z-score value: -3.5383407969933938\n",
      "P-value: 0.00040265000778005877\n",
      "Reject the null hypothesis: There is a difference in average weight loss between people in diet 1 and diet 2.\n"
     ]
    }
   ],
   "source": [
    "# TODO\n",
    "import numpy as np\n",
    "from scipy.stats import norm\n",
    "\n",
    "diet1 = [2.0, 2.5, 3.0, 2.8, 2.3, 2.7, 2.5]\n",
    "diet2 = [3.0, 3.2, 3.1, 2.9, 2.8, 3.0, 3.2]\n",
    "\n",
    "mean1 = np.mean(diet1)\n",
    "mean2 = np.mean(diet2)\n",
    "\n",
    "n1 = len(diet1)\n",
    "n2 = len(diet2)\n",
    "\n",
    "std1 = np.std(diet1, ddof =1)\n",
    "std2 = np.std(diet2, ddof =1)\n",
    "\n",
    "standard_error = np.sqrt((std1**2 / n1) + (std2**2 /n2))\n",
    "z_score = (mean1 - mean2) / standard_error\n",
    "p_value = 2 * (1 - norm.cdf(abs(z_score)))\n",
    "\n",
    "def evaluate_test(p_value, alpha= 0.05):\n",
    "    if p_value < alpha:\n",
    "        return \"Reject the null hypothesis: There is a difference in average weight loss between people in diet 1 and diet 2.\"\n",
    "    else:\n",
    "        return \"Fail to reject the null hypothesis: There is no difference in average weight loss between people in diet 1 and diet 2.\"\n",
    "\n",
    "print(f\"Z-score value: {z_score}\")\n",
    "print(f\"P-value: {p_value}\")\n",
    "print(evaluate_test(p_value))"
   ]
  },
  {
   "cell_type": "markdown",
   "id": "f432e18e",
   "metadata": {},
   "source": [
    "## ANOVA\n",
    "\n",
    "**ANOVA** (*Analysis of Variance*) is a statistical technique used to compare the measures of two or more groups. The idea behind ANOVA is to decompose the total variability in the data into two components: between-group variability and within-group variability:\n",
    "\n",
    "- **Between-group variability**: This variability refers to the differences between the group means. If this variability is considerably larger than the within-group variability, it could be an indication that at least one of the group means is different.\n",
    "- **Within-group variability**: This variability refers to the dispersion of the data within each group. If all groups have similar variability, then any noticeable difference in group means could be considered significant.\n",
    "\n",
    "Hypotheses in ANOVA typically include:\n",
    "\n",
    "- **Null hypothesis** ($H₀$): The means of all groups are equal.\n",
    "- **Alternative hypothesis** ($H₁$): At least one of the group means is different.\n",
    "\n",
    "If the ANOVA test result is significant (e.g., a p-value less than a threshold such as 0.05), this suggests that at least one group mean is different."
   ]
  },
  {
   "cell_type": "markdown",
   "id": "fc5f3721",
   "metadata": {},
   "source": [
    "## Exercise 2\n",
    "\n",
    "A farmer decides to test three different types of fertilizers to determine if one is superior in terms of corn production. The farmer plants corn on 15 identical plots and uses all three fertilizers (5 plots for each type). At the end of the season, he measures the corn yield (in kg) of each plot, with the following result:\n",
    "\n",
    "| Fertilizer 1 | Fertilizer 2 | Fertilizer 3 |\n",
    "|:-------------|:-------------|:-------------|\n",
    "| 20 | 22 | 24 |\n",
    "| 21 | 21 | 23 |\n",
    "| 20 | 23 | 22 |\n",
    "| 19 | 22 | 23 |\n",
    "| 20 | 21 | 24 |\n",
    "\n",
    "With this data, he seeks to answer the following question: Is there a significant difference in average corn yield between the three types of fertilizers?\n",
    "\n",
    "To help you, follow the points below:\n",
    "\n",
    "- State the hypothesis: null and alternative hypothesis.\n",
    "- Perform the ANOVA test.\n",
    "- Analyze the conclusions.\n",
    "- If one fertilizer is better than another, how can we know it?"
   ]
  },
  {
   "cell_type": "markdown",
   "id": "5c687034",
   "metadata": {},
   "source": [
    "- H_0 = There is no difference in average corn yield between the three types of fertilizers.\n",
    "- H_1 = There is a difference  in average corn yield for at least one of the three types of fertilizers."
   ]
  },
  {
   "cell_type": "code",
   "execution_count": 10,
   "id": "eecad0ca",
   "metadata": {},
   "outputs": [
    {
     "name": "stdout",
     "output_type": "stream",
     "text": [
      "F-value: 20.315789473684188\n",
      "p-value: 0.00014047824793190475\n",
      "Reject the null hypothesis: There is a difference in average corn yield for at least one of the three types of fertilizers.\n"
     ]
    }
   ],
   "source": [
    "# TODO\n",
    "from scipy.stats import f_oneway\n",
    "\n",
    "fert1 = [20, 21, 20, 19, 20]\n",
    "fert2 = [22, 21, 23, 22, 21]\n",
    "fert3 = [24, 23, 22, 23, 24]\n",
    "\n",
    "f_value, p_value = f_oneway(fert1, fert2, fert3)\n",
    "\n",
    "def evaluate_test(p_value, alpha= 0.05):\n",
    "    if p_value < alpha:\n",
    "        return \"Reject the null hypothesis: There is a difference in average corn yield for at least one of the three types of fertilizers.\"\n",
    "    else:\n",
    "        return \"Fail to reject the null hypothesis: There is no difference in average corn yield between the three types of fertilizers.\"\n",
    "\n",
    "print(f\"F-value: {f_value}\")\n",
    "print(f\"p-value: {p_value}\")\n",
    "print(evaluate_test(p_value))\n"
   ]
  }
 ],
 "metadata": {
  "kernelspec": {
   "display_name": "Python 3",
   "language": "python",
   "name": "python3"
  },
  "language_info": {
   "codemirror_mode": {
    "name": "ipython",
    "version": 3
   },
   "file_extension": ".py",
   "mimetype": "text/x-python",
   "name": "python",
   "nbconvert_exporter": "python",
   "pygments_lexer": "ipython3",
   "version": "3.11.4"
  }
 },
 "nbformat": 4,
 "nbformat_minor": 5
}
